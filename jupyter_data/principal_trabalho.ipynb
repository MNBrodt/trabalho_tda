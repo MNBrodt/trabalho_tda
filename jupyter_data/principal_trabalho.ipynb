{
 "cells": [
  {
   "cell_type": "markdown",
   "id": "6803c801-8699-4813-bd5b-58d71661d10d",
   "metadata": {},
   "source": [
    "# Tipos de Dados Avançados e Modelagem para Ciência Dados\n",
    "## Entrega: 16 de maio\n",
    "\n",
    "\n",
    "Desenvolva uma solução prática completa (end-to-end) que integre pelo menos dois tipos distintos de dados, visando resolver um problema específico na área de engenharia de dados.\n",
    "\n",
    "Cada grupo deverá:\n",
    "\n",
    "* Selecionar Dois Tipos de Dados: Escolher e trabalhar com pelo menos dois tipos diferentes de dados.\n",
    "* Implementar com Docker: Configurar o ambiente de desenvolvimento utilizando Docker e Docker Compose para assegurar a reprodutibilidade.\n",
    "* Criar um Pipeline de Dados: Desenvolver um pipeline que compreenda as etapas de coleta, processamento, análise e visualização dos dados.\n",
    "* Aplicar Técnicas de Engenharia de Dados e Machine Learning: Integrar métodos adequados para manipulação e análise dos dados.\n",
    "* Documentar o Processo: Criar um documento em Jupyter Notebook que descreva as decisões de design, os desafios enfrentados e as soluções implementadas.\n",
    "* Apresentar os Resultados: Produzir um vídeo em formato mp4, com duração máxima de 15 minutos, e submeter o Jupyter Notebook da documentação, incluindo conclusões baseadas nos resultados obtidos, com destaque para insights e aprendizados.\n",
    "\n",
    "\n",
    "Artefatos de Entrega: Um arquivo .mp4 e arquivos do Jupyter Notebook utilizados.\n",
    "\n",
    "Pontuação | 8,0\n",
    "\n",
    "\n",
    "NOSSA DATA FINAL: 9/MAIO\n"
   ]
  },
  {
   "cell_type": "markdown",
   "id": "f462bf66-dc54-47df-80c6-90a66bbe81e3",
   "metadata": {},
   "source": [
    "# Escolha do dataset\n",
    "\n",
    "\n",
    "Primeiro dataset: Fitness Track Daily Activity Dataset 2024\n",
    "\n",
    "Dados: \n",
    "* steps taken, \n",
    "* total distance covered, \n",
    "* distances for various activity levels (very active, moderately active, etc.), \n",
    "* active minutes for different intensity levels,\n",
    "* sedentary minutes, and \n",
    "* estimated calories burned.\n"
   ]
  }
 ],
 "metadata": {
  "kernelspec": {
   "display_name": "Python 3 (ipykernel)",
   "language": "python",
   "name": "python3"
  },
  "language_info": {
   "codemirror_mode": {
    "name": "ipython",
    "version": 3
   },
   "file_extension": ".py",
   "mimetype": "text/x-python",
   "name": "python",
   "nbconvert_exporter": "python",
   "pygments_lexer": "ipython3",
   "version": "3.11.6"
  }
 },
 "nbformat": 4,
 "nbformat_minor": 5
}
